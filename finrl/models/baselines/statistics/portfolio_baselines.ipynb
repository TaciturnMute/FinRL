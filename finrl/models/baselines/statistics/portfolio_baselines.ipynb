{
 "cells": [
  {
   "cell_type": "code",
   "execution_count": 1,
   "metadata": {},
   "outputs": [
    {
     "name": "stderr",
     "output_type": "stream",
     "text": [
      "/root/miniconda3/envs/myconda/lib/python3.8/site-packages/tqdm/auto.py:22: TqdmWarning: IProgress not found. Please update jupyter and ipywidgets. See https://ipywidgets.readthedocs.io/en/stable/user_install.html\n",
      "  from .autonotebook import tqdm as notebook_tqdm\n"
     ]
    }
   ],
   "source": [
    "import sys\n",
    "sys.path.append('/mnt/')\n",
    "import numpy as np\n",
    "import pandas as pd\n",
    "from finrl.models.env import StockPortfolioEnv\n",
    "from finrl.models.utils import data_split\n",
    "from finrl.models.metrics import *\n",
    "from finrl.models.constants import *\n",
    "from finrl.data.generate import portfolio_data_generate  # 数据生成\n",
    "from finrl.models.baselines.statistics import *\n",
    "# import finrl.models.baselines.statistics as statistics   # 将statistics当作包导入，前提是具有init文件。\n",
    "# statistics.BestCRP  # init文件下导入的包"
   ]
  },
  {
   "cell_type": "markdown",
   "metadata": {},
   "source": [
    "**注意** :\n",
    "\n",
    "不同的python版本、不同的python包(如numpy、scipy等)的版本、不同的cpu都可能导致计算精度的差异，从而造成评估结果和论文有甚至较大的出入。"
   ]
  },
  {
   "cell_type": "code",
   "execution_count": null,
   "metadata": {},
   "outputs": [],
   "source": [
    "data_dir = '/mnt/finrl/data/csv/DOW_30/'\n",
    "vix_data_dir = '/mnt/finrl/data/csv/^VIX/'\n",
    "dji_dir = '/mnt/finrl/data/csv/DJI/DJI.csv'  # .csv\n",
    "\n",
    "TRAIN_START_DATE = '2010-01-01'\n",
    "TRAIN_END_DATE = '2021-12-31'\n",
    "VALIDATE_START_DATE = '2022-01-01'\n",
    "VALIDATE_END_DATE = '2022-12-31'\n",
    "TEST_START_DATE = '2023-01-01'\n",
    "TEST_END_DATE = '2024-01-30'\n",
    "\n",
    "df = portfolio_data_generate(\n",
    "    data_dir=data_dir,\n",
    "    start_date=TRAIN_START_DATE,\n",
    "    end_date=TEST_END_DATE,\n",
    "    use_technical_indicator=True,\n",
    "    use_turbulence=True,\n",
    "    user_defined_feature=False,\n",
    "    tech_indicator_list=INDICATORS,\n",
    "    use_vix=True,\n",
    "    vix_data_dir=vix_data_dir,\n",
    "    dji_dir=dji_dir,\n",
    ")\n",
    "\n",
    "df_train = data_split(df,TRAIN_START_DATE,TRAIN_END_DATE)\n",
    "df_validation = data_split(df,VALIDATE_START_DATE,VALIDATE_END_DATE)\n",
    "df_test = data_split(df,TEST_START_DATE,TEST_END_DATE)\n",
    "df_train_validation = data_split(df,TRAIN_START_DATE,VALIDATE_END_DATE)\n"
   ]
  },
  {
   "cell_type": "code",
   "execution_count": null,
   "metadata": {},
   "outputs": [],
   "source": [
    "env_portfolio_kwargs = {\n",
    "    'stock_dim': None,    # len(df.tic.unique())\n",
    "    'hmax': 100,\n",
    "    'initial_amount': 1000000,\n",
    "    'buy_cost_pct': None,\n",
    "    'sell_cost_pct': None,\n",
    "    'reward_scaling': 1e-4,\n",
    "    'tech_indicator_list': ['macd', 'rsi_30', 'cci_30', 'dx_30'],\n",
    "}"
   ]
  },
  {
   "cell_type": "code",
   "execution_count": null,
   "metadata": {},
   "outputs": [],
   "source": [
    "ACTION_DIM = len(df_train.tic.unique())\n",
    "STATE_DIM = ACTION_DIM + 4  # 理解为每只股票的状态个数，二维状态矩阵的行数\n",
    "\n",
    "stock_dim = len(df.tic.unique())\n",
    "env_portfolio_kwargs.update({\n",
    "                            'stock_dim':stock_dim,\n",
    "                            'buy_cost_pct':[0.001]*ACTION_DIM,\n",
    "                            'sell_cost_pct':[0.001]*ACTION_DIM,\n",
    "                            })\n",
    "env_test = StockPortfolioEnv(df_test, **env_portfolio_kwargs)\n",
    "print(env_portfolio_kwargs)"
   ]
  },
  {
   "cell_type": "markdown",
   "metadata": {},
   "source": [
    "# Best CRP"
   ]
  },
  {
   "cell_type": "code",
   "execution_count": 5,
   "metadata": {},
   "outputs": [],
   "source": [
    "bcrp = BestCRP(df_train_validation,df_test)"
   ]
  },
  {
   "cell_type": "code",
   "execution_count": 22,
   "metadata": {},
   "outputs": [],
   "source": [
    "s = env_test.reset()  # list\n",
    "done = False\n",
    "while not done:\n",
    "    a = bcrp.decide().reshape(-1)  # (action_dim,)\n",
    "    s_, r, done, _ = env_test.step(a)  # ndarray,float,bool,dict\n",
    "    s = s_"
   ]
  },
  {
   "cell_type": "code",
   "execution_count": 23,
   "metadata": {},
   "outputs": [
    {
     "name": "stdout",
     "output_type": "stream",
     "text": [
      "Sharpe Ratio: 1.4303\n",
      "Cumulative Return: 0.1766\n",
      "Annual Return: 0.1646\n",
      "Max Drawdown-0.0831\n"
     ]
    }
   ],
   "source": [
    "print(f'Sharpe Ratio: {sharpe_ratio(env_test.returns)}')\n",
    "print(f'Cumulative Return: {cum_returns_final(env_test.returns)}')\n",
    "print(f'Annual Return: {annual_return(env_test.returns)}')\n",
    "print(f'Max Drawdown{max_drawdown(env_test.returns)}')"
   ]
  },
  {
   "cell_type": "markdown",
   "metadata": {},
   "source": [
    "# BestStock"
   ]
  },
  {
   "cell_type": "code",
   "execution_count": 19,
   "metadata": {},
   "outputs": [],
   "source": [
    "bs = BestStock(df_train_validation, df_test)\n",
    "s = env_test.reset()  \n",
    "done = False\n",
    "while not done:  \n",
    "    a = np.zeros([29,1]).reshape(-1,)\n",
    "    a[24]=1\n",
    "    # a = bs.decide().reshape(-1)  \n",
    "    s_, r, done, _ = env_test.step(a)  \n",
    "    s = s_"
   ]
  },
  {
   "cell_type": "code",
   "execution_count": 20,
   "metadata": {},
   "outputs": [
    {
     "name": "stdout",
     "output_type": "stream",
     "text": [
      "Sharpe Ratio: 1.3952\n",
      "Cumulative Return: 0.1703\n",
      "Annual Return: 0.1587\n",
      "Max Drawdown-0.0804\n"
     ]
    }
   ],
   "source": [
    "print(f'Sharpe Ratio: {sharpe_ratio(env_test.returns)}')\n",
    "print(f'Cumulative Return: {cum_returns_final(env_test.returns)}')\n",
    "print(f'Annual Return: {annual_return(env_test.returns)}')\n",
    "print(f'Max Drawdown{max_drawdown(env_test.returns)}')"
   ]
  },
  {
   "cell_type": "markdown",
   "metadata": {},
   "source": [
    "# UBAH"
   ]
  },
  {
   "cell_type": "code",
   "execution_count": 26,
   "metadata": {},
   "outputs": [],
   "source": [
    "ubah = UniformBAH(df_train_validation, df_test)\n",
    "\n",
    "s = env_test.reset()  \n",
    "done = False\n",
    "while not done:\n",
    "    \n",
    "    last_weights = env_test.last_weights\n",
    "    a = ubah.decide(last_weights).reshape(-1)  \n",
    "    s_, r, done, _ = env_test.step(a)  \n",
    "    s = s_"
   ]
  },
  {
   "cell_type": "code",
   "execution_count": 27,
   "metadata": {},
   "outputs": [
    {
     "name": "stdout",
     "output_type": "stream",
     "text": [
      "Sharpe Ratio: 1.4343\n",
      "Cumulative Return: 0.1808\n",
      "Annual Return: 0.1685\n",
      "Max Drawdown-0.0872\n"
     ]
    }
   ],
   "source": [
    "print(f'Sharpe Ratio: {sharpe_ratio(env_test.returns)}')\n",
    "print(f'Cumulative Return: {cum_returns_final(env_test.returns)}')\n",
    "print(f'Annual Return: {annual_return(env_test.returns)}')\n",
    "print(f'Max Drawdown{max_drawdown(env_test.returns)}')"
   ]
  },
  {
   "cell_type": "markdown",
   "metadata": {},
   "source": [
    "# Uniform CRP"
   ]
  },
  {
   "cell_type": "code",
   "execution_count": 35,
   "metadata": {},
   "outputs": [],
   "source": [
    "ucrp = UniformCRP(df_train_validation, df_test)\n",
    "\n",
    "s = env_test.reset()  \n",
    "done = False\n",
    "while not done:\n",
    "    a = ucrp.decide().reshape(-1)  \n",
    "    s_, r, done, _ = env_test.step(a)  \n",
    "    s = s_"
   ]
  },
  {
   "cell_type": "code",
   "execution_count": 38,
   "metadata": {},
   "outputs": [
    {
     "name": "stdout",
     "output_type": "stream",
     "text": [
      "Sharpe Ratio: 1.4334\n",
      "Cumulative Return: 0.1807\n",
      "Annual Return: 0.1684\n",
      "Max Drawdown-0.0872\n"
     ]
    }
   ],
   "source": [
    "print(f'Sharpe Ratio: {sharpe_ratio(env_test.returns)}')\n",
    "print(f'Cumulative Return: {cum_returns_final(env_test.returns)}')\n",
    "print(f'Annual Return: {annual_return(env_test.returns)}')\n",
    "print(f'Max Drawdown{max_drawdown(env_test.returns)}')"
   ]
  },
  {
   "cell_type": "code",
   "execution_count": 37,
   "metadata": {},
   "outputs": [],
   "source": [
    "with open('ucrp_assets.txt','w') as f:\n",
    "    for asset in env_test.asset_memory:\n",
    "        f.write(str(asset)+'\\n')"
   ]
  },
  {
   "cell_type": "markdown",
   "metadata": {},
   "source": [
    "# Universal Portfolio\n"
   ]
  },
  {
   "cell_type": "code",
   "execution_count": 39,
   "metadata": {},
   "outputs": [],
   "source": [
    "up = UniversalPortfolio(df_train_validation, df_test)\n",
    "s = env_test.reset()\n",
    "done = False\n",
    "while not done:\n",
    "    a = up.decide().reshape(-1)  \n",
    "    s_, r, done, _ = env_test.step(a)  \n",
    "    s = s_"
   ]
  },
  {
   "cell_type": "code",
   "execution_count": 40,
   "metadata": {},
   "outputs": [
    {
     "name": "stdout",
     "output_type": "stream",
     "text": [
      "Sharpe Ratio: 1.4549\n",
      "Cumulative Return: 0.1823\n",
      "Annual Return: 0.1699\n",
      "Max Drawdown: -0.0751\n"
     ]
    }
   ],
   "source": [
    "print(f'Sharpe Ratio: {sharpe_ratio(env_test.returns)}')\n",
    "print(f'Cumulative Return: {cum_returns_final(env_test.returns)}')\n",
    "print(f'Annual Return: {annual_return(env_test.returns)}')\n",
    "print(f'Max Drawdown: {max_drawdown(env_test.returns)}')"
   ]
  },
  {
   "cell_type": "code",
   "execution_count": null,
   "metadata": {},
   "outputs": [],
   "source": []
  }
 ],
 "metadata": {
  "kernelspec": {
   "display_name": "myconda",
   "language": "python",
   "name": "myconda"
  },
  "language_info": {
   "codemirror_mode": {
    "name": "ipython",
    "version": 3
   },
   "file_extension": ".py",
   "mimetype": "text/x-python",
   "name": "python",
   "nbconvert_exporter": "python",
   "pygments_lexer": "ipython3",
   "version": "3.8.15"
  }
 },
 "nbformat": 4,
 "nbformat_minor": 2
}
