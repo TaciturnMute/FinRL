{
 "cells": [
  {
   "cell_type": "code",
   "execution_count": 7,
   "metadata": {},
   "outputs": [],
   "source": [
    "import sys\n",
    "sys.path.append('/mnt/')\n",
    "import numpy as np\n",
    "import pandas as pd\n",
    "from finrl.models.env import StockTradingEnv\n",
    "from finrl.models.utils import data_split\n",
    "from finrl.models.metrics import *\n",
    "from finrl.models.constants import *\n",
    "from finrl.data.generate import stock_trade_data_generate  # 数据生成\n",
    "from finrl.models.baselines.statistics import *\n",
    "# import finrl.models.baselines.statistics as statistics   # 将statistics当作包导入，前提是具有init文件。\n",
    "# statistics.BestCRP  # init文件下导入的包"
   ]
  },
  {
   "cell_type": "code",
   "execution_count": 4,
   "metadata": {},
   "outputs": [
    {
     "name": "stdout",
     "output_type": "stream",
     "text": [
      "Shape of DataFrame:  (103943, 8)\n",
      "Successfully added technical indicators\n",
      "Shape of DataFrame:  (3542, 8)\n",
      "Successfully added vix\n",
      "Successfully added turbulence index\n"
     ]
    }
   ],
   "source": [
    "data_dir = '/mnt/finrl/data/csv/DOW_30/'\n",
    "vix_data_dir = '/mnt/finrl/data/csv/^VIX/'\n",
    "dji_dir = '/mnt/finrl/data/csv/DJI/DJI.csv'  # .csv\n",
    "\n",
    "TRAIN_START_DATE = '2010-01-01'\n",
    "TRAIN_END_DATE = '2021-12-31'\n",
    "VALIDATE_START_DATE = '2022-01-01'\n",
    "VALIDATE_END_DATE = '2022-12-31'\n",
    "TEST_START_DATE = '2023-01-01'\n",
    "TEST_END_DATE = '2024-01-30'\n",
    "\n",
    "df = stock_trade_data_generate(\n",
    "    data_dir=data_dir,\n",
    "    start_date=TRAIN_START_DATE,\n",
    "    end_date=TEST_END_DATE,\n",
    "    use_technical_indicator=True,\n",
    "    use_turbulence=True,\n",
    "    user_defined_feature=False,\n",
    "    tech_indicator_list=INDICATORS,\n",
    "    use_vix=True,\n",
    "    vix_data_dir=vix_data_dir,\n",
    "    dji_dir=dji_dir,\n",
    ")\n",
    "df_train = data_split(df,TRAIN_START_DATE,TRAIN_END_DATE)\n",
    "df_validation = data_split(df,VALIDATE_START_DATE,VALIDATE_END_DATE)\n",
    "df_test = data_split(df,TEST_START_DATE,TEST_END_DATE)\n",
    "df_train_validation = data_split(df,TRAIN_START_DATE,VALIDATE_END_DATE)"
   ]
  },
  {
   "cell_type": "code",
   "execution_count": 10,
   "metadata": {},
   "outputs": [],
   "source": [
    "env_trade_kwargs = {\n",
    "    'stock_dim': None,\n",
    "    'hmax': 100,\n",
    "    'initial_amount': 1000000,\n",
    "    'num_stock_shares': None,    # [0]*stock_dim\n",
    "    'buy_cost_pct': None,    # [0.001]*ACTION_DIM\n",
    "    'sell_cost_pct': None,      # [0.001]*ACTION_DIM\n",
    "    'reward_scaling': 1e-4,         # reward=reward*reward_scaling\n",
    "    'tech_indicator_list': ['macd','boll_ub','boll_lb','rsi_30','cci_30','dx_30','close_30_sma','close_60_sma'],\n",
    "}"
   ]
  },
  {
   "cell_type": "code",
   "execution_count": 13,
   "metadata": {},
   "outputs": [
    {
     "name": "stdout",
     "output_type": "stream",
     "text": [
      "{'stock_dim': 29, 'hmax': 100, 'initial_amount': 1000000, 'num_stock_shares': [0, 0, 0, 0, 0, 0, 0, 0, 0, 0, 0, 0, 0, 0, 0, 0, 0, 0, 0, 0, 0, 0, 0, 0, 0, 0, 0, 0, 0], 'buy_cost_pct': [0.001, 0.001, 0.001, 0.001, 0.001, 0.001, 0.001, 0.001, 0.001, 0.001, 0.001, 0.001, 0.001, 0.001, 0.001, 0.001, 0.001, 0.001, 0.001, 0.001, 0.001, 0.001, 0.001, 0.001, 0.001, 0.001, 0.001, 0.001, 0.001], 'sell_cost_pct': [0.001, 0.001, 0.001, 0.001, 0.001, 0.001, 0.001, 0.001, 0.001, 0.001, 0.001, 0.001, 0.001, 0.001, 0.001, 0.001, 0.001, 0.001, 0.001, 0.001, 0.001, 0.001, 0.001, 0.001, 0.001, 0.001, 0.001, 0.001, 0.001], 'reward_scaling': 0.0001, 'tech_indicator_list': ['macd', 'boll_ub', 'boll_lb', 'rsi_30', 'cci_30', 'dx_30', 'close_30_sma', 'close_60_sma'], 'turbulence_threshold': None, 'risk_indicator_col': 'vix', 'cash_norm_factor': 1.0, 'num_share_norm_factor': 1}\n"
     ]
    }
   ],
   "source": [
    "# 这样更通用一点\n",
    "ACTION_DIM = len(df_test.tic.unique())\n",
    "STATE_DIM = 1 + ACTION_DIM * (1 + 1 + len(INDICATORS))\n",
    "env_trade_kwargs.update({\n",
    "    'stock_dim':ACTION_DIM,\n",
    "    'statel_dim':STATE_DIM,\n",
    "    'num_stock_shares':[0]*ACTION_DIM,\n",
    "    'buy_cost_pct':[0.001]*ACTION_DIM,\n",
    "    'sell_cost_pct':[0.001]*ACTION_DIM,\n",
    "    'turbulence_threshold':None,  #70  可以设置预警\n",
    "    'cash_norm_factor':1.0,\n",
    "    'num_share_norm_factor':1,  # 持股数不归一化\n",
    "    'risk_indicator_col':'vix'\n",
    "    })\n",
    "env_gym_trade = StockTradingEnv(df_test,**env_trade_kwargs)\n",
    "print(env_trade_kwargs)"
   ]
  },
  {
   "cell_type": "markdown",
   "metadata": {},
   "source": [
    "# MACD\n"
   ]
  },
  {
   "cell_type": "markdown",
   "metadata": {},
   "source": [
    "## 测试"
   ]
  },
  {
   "cell_type": "markdown",
   "metadata": {},
   "source": [
    "获得交易动作"
   ]
  },
  {
   "cell_type": "code",
   "execution_count": 14,
   "metadata": {},
   "outputs": [],
   "source": [
    "MACDBaseline=MACDStrategy()\n",
    "position_sizes = pd.DataFrame()\n",
    "for tic in df_test.tic.unique():\n",
    "    s=df_test[df_test.tic==tic].close  # 提取对应股票数据\n",
    "    s.index=df_test[df_test.tic==tic].date\n",
    "    signals = pd.Series(MACDBaseline.calc_combined_signal(s))\n",
    "    signals.index = s.index\n",
    "    position_size = MACDBaseline.scale_signal(signals)  \n",
    "    position_sizes[tic]=position_size"
   ]
  },
  {
   "cell_type": "markdown",
   "metadata": {},
   "source": [
    "和环境交互"
   ]
  },
  {
   "cell_type": "code",
   "execution_count": 15,
   "metadata": {},
   "outputs": [],
   "source": [
    "done=False\n",
    "i=0\n",
    "while not done:\n",
    "    a=position_sizes.iloc[i]\n",
    "    a=np.array(a)\n",
    "    s,r,done,_=env_gym_trade.step(a)\n",
    "    i+=1"
   ]
  },
  {
   "cell_type": "markdown",
   "metadata": {},
   "source": [
    "计算测试结果"
   ]
  },
  {
   "cell_type": "code",
   "execution_count": 16,
   "metadata": {},
   "outputs": [
    {
     "name": "stdout",
     "output_type": "stream",
     "text": [
      "Sharpe Ratio: 1.7181\n",
      "Cumulative Return: 0.3339\n",
      "Annual Return: 0.3098\n",
      "Max Drawdown-0.1193\n"
     ]
    }
   ],
   "source": [
    "# account_value = pd.DataFrame(env_gym_trade.asset_memory)\n",
    "# account_value.columns=['account_value']\n",
    "# account_value.insert(0,'date',df_test.date.unique())\n",
    "# backtest_stats(account_value)\n",
    "\n",
    "print(f'Sharpe Ratio: {sharpe_ratio(env_gym_trade.returns)}')\n",
    "print(f'Cumulative Return: {cum_returns_final(env_gym_trade.returns)}')\n",
    "print(f'Annual Return: {annual_return(env_gym_trade.returns)}')\n",
    "print(f'Max Drawdown{max_drawdown(env_gym_trade.returns)}')"
   ]
  },
  {
   "cell_type": "markdown",
   "metadata": {},
   "source": [
    "# ImmediateStrategy"
   ]
  },
  {
   "cell_type": "code",
   "execution_count": 18,
   "metadata": {},
   "outputs": [],
   "source": [
    "ImmediateStrategyBaseline = ImmediateStrategy(0)   #w=0即为sgn\n",
    "position_sizes = pd.DataFrame()\n",
    "for tic in df_test.tic.unique():\n",
    "    s=df_test[df_test.tic==tic].close\n",
    "    s.index=df_test[df_test.tic==tic].date\n",
    "    signals = pd.Series(ImmediateStrategyBaseline.calc_trend_intermediate_signal(s))\n",
    "    signals.index = s.index\n",
    "    position_size = ImmediateStrategyBaseline.scale_signal(signals)\n",
    "    position_sizes[tic]=position_size"
   ]
  },
  {
   "cell_type": "code",
   "execution_count": 19,
   "metadata": {},
   "outputs": [],
   "source": [
    "done=False\n",
    "i=0\n",
    "env_gym_trade.reset()\n",
    "while not done:\n",
    "    a=position_sizes.iloc[i]\n",
    "    a=np.array(a)\n",
    "    s,r,done,_=env_gym_trade.step(a)\n",
    "    i+=1"
   ]
  },
  {
   "cell_type": "code",
   "execution_count": 20,
   "metadata": {},
   "outputs": [
    {
     "name": "stdout",
     "output_type": "stream",
     "text": [
      "Sharpe Ratio: 1.2382\n",
      "Cumulative Return: 0.1993\n",
      "Annual Return: 0.1856\n",
      "Max Drawdown-0.1161\n"
     ]
    }
   ],
   "source": [
    "# account_value = pd.DataFrame(env_gym_trade.asset_memory)\n",
    "# account_value.columns=['account_value']\n",
    "# account_value.insert(0,'date',df_test.date.unique())\n",
    "# backtest_stats(account_value)\n",
    "\n",
    "print(f'Sharpe Ratio: {sharpe_ratio(env_gym_trade.returns)}')\n",
    "print(f'Cumulative Return: {cum_returns_final(env_gym_trade.returns)}')\n",
    "print(f'Annual Return: {annual_return(env_gym_trade.returns)}')\n",
    "print(f'Max Drawdown{max_drawdown(env_gym_trade.returns)}')"
   ]
  },
  {
   "cell_type": "markdown",
   "metadata": {},
   "source": [
    "# LongOnly"
   ]
  },
  {
   "cell_type": "code",
   "execution_count": 21,
   "metadata": {},
   "outputs": [],
   "source": [
    "LongOnly = LongOnlyStrategy(ACTION_DIM)"
   ]
  },
  {
   "cell_type": "code",
   "execution_count": 22,
   "metadata": {},
   "outputs": [],
   "source": [
    "done=False\n",
    "env_gym_trade.reset()\n",
    "while not done:\n",
    "    a=LongOnly.cal_signal()\n",
    "    a=np.array(a)\n",
    "    s,r,done,_=env_gym_trade.step(a)"
   ]
  },
  {
   "cell_type": "code",
   "execution_count": 23,
   "metadata": {},
   "outputs": [
    {
     "name": "stdout",
     "output_type": "stream",
     "text": [
      "Sharpe Ratio: 1.4813\n",
      "Cumulative Return: 0.1831\n",
      "Annual Return: 0.1706\n",
      "Max Drawdown-0.0817\n"
     ]
    }
   ],
   "source": [
    "# account_value = pd.DataFrame(env_gym_trade.asset_memory)\n",
    "# account_value.columns=['account_value']\n",
    "# account_value.insert(0,'date',df_test.date.unique())\n",
    "# backtest_stats(account_value)\n",
    "\n",
    "print(f'Sharpe Ratio: {sharpe_ratio(env_gym_trade.returns)}')\n",
    "print(f'Cumulative Return: {cum_returns_final(env_gym_trade.returns)}')\n",
    "print(f'Annual Return: {annual_return(env_gym_trade.returns)}')\n",
    "print(f'Max Drawdown{max_drawdown(env_gym_trade.returns)}')"
   ]
  }
 ],
 "metadata": {
  "kernelspec": {
   "display_name": "myconda",
   "language": "python",
   "name": "myconda"
  },
  "language_info": {
   "codemirror_mode": {
    "name": "ipython",
    "version": 3
   },
   "file_extension": ".py",
   "mimetype": "text/x-python",
   "name": "python",
   "nbconvert_exporter": "python",
   "pygments_lexer": "ipython3",
   "version": "3.8.15"
  }
 },
 "nbformat": 4,
 "nbformat_minor": 2
}
