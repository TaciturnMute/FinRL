{
 "cells": [
  {
   "cell_type": "code",
   "execution_count": 1,
   "metadata": {},
   "outputs": [
    {
     "name": "stderr",
     "output_type": "stream",
     "text": [
      "/root/miniconda3/envs/myconda/lib/python3.8/site-packages/tqdm/auto.py:22: TqdmWarning: IProgress not found. Please update jupyter and ipywidgets. See https://ipywidgets.readthedocs.io/en/stable/user_install.html\n",
      "  from .autonotebook import tqdm as notebook_tqdm\n"
     ]
    }
   ],
   "source": [
    "import json\n",
    "import sys\n",
    "sys.path.append('/mnt/')\n",
    "import pandas as pd\n",
    "import matplotlib.pyplot as plt\n",
    "from finrl.data.photo_indicator import *\n",
    "from datetime import timedelta\n",
    "import tqdm\n",
    "from matplotlib.ticker import MultipleLocator\n",
    "from matplotlib.ticker import FormatStrFormatter\n",
    "import os\n",
    "from finrl.data.generate import stock_trade_data_generate\n",
    "from finrl.models.constants import *\n",
    "from finrl.models.utils import data_split\n",
    "from finrl.models.env import StockTradingEnv\n",
    "from finrl.data.photo_plot import *"
   ]
  },
  {
   "cell_type": "code",
   "execution_count": 2,
   "metadata": {},
   "outputs": [
    {
     "name": "stdout",
     "output_type": "stream",
     "text": [
      "{'env_trade_kwargs': {'stock_dim': None, 'hmax': 100, 'initial_amount': 1000000, 'num_stock_shares': None, 'buy_cost_pct': None, 'sell_cost_pct': None, 'reward_scaling': 0.0001, 'state_space': None, 'action_space': None, 'tech_indicator_list': ['macd', 'boll_ub', 'boll_lb', 'rsi_30', 'cci_30', 'dx_30', 'close_30_sma', 'close_60_sma'], 'turbulence_threshold': None, 'risk_indicator_col': 'turbulence', 'reward_aliase': 'asset_diff', 'cash_norm_factor': 1e-06, 'num_share_norm_factor': None, 'if_price_norm': None, 'if_indicator_norm': None, 'if_num_share_norm': None, 'max_price': None, 'min_price': None}, 'env_portfolio_kwargs': {'stock_dim': None, 'hmax': 100, 'initial_amount': 1000000, 'buy_cost_pct': None, 'sell_cost_pct': None, 'reward_scaling': 0.0001, 'state_space': None, 'action_space': None, 'tech_indicator_list': ['macd', 'rsi_30', 'cci_30', 'dx_30'], 'turbulence_threshold': None, 'lookback': 252, 'reward_aliase': 'asset_diff'}, 'policy_kwargs': {'cnn_activation': None, 'lstm_input_size': None, 'lstm_hidden_size': None, 'env_obs_dim': None, 'action_dim': None, 'mlp_activation': None, 'srl_aliase': None, 'srl_hidden_dim': None}, 'agent_kwargs': {'env_train': None, 'env_validation': None, 'env_test': None, 'episodes': None, 'buffer_size': None, 'batch_size': None, 'n_steps': None, 'n_updates': None, 'if_prioritized': None, 'gamma': None, 'tau': None, 'policy_lr': None, 'noise_kwargs': None, 'noise_aliase': None, 'training_start': None, 'policy_kwargs': None, 'target_update_interval': None, 'print_interval': None, 'figure_path': None, 'device': None, 'task': None, 'train_time': None}, 'ou_noise_kwargs': {'mu': None, 'sigma': 0.05, 'theta': 0.15, 'dt': 0.1, 'x0': None, 'seed': 1, 'randomness': True}}\n"
     ]
    }
   ],
   "source": [
    "path = '/mnt/finrl/models/kwargs.json'\n",
    "with open(path,'r',encoding='utf-8') as f:\n",
    "    config = json.load(f)\n",
    "print(config)"
   ]
  },
  {
   "cell_type": "code",
   "execution_count": 20,
   "metadata": {},
   "outputs": [],
   "source": [
    "### 导入参数\n",
    "path = '/mnt/finrl/models/kwargs.json'\n",
    "with open(path,'r',encoding='utf-8') as f:\n",
    "    config = json.load(f)\n",
    "print(config)\n",
    "\n",
    "TRAIN_START_DATE,TRAIN_END_DATE='2005-01-01','2021-12-31'\n",
    "VALIDATE_START_DATE,VALIDATE_END_DATE='2022-01-01','2022-12-31'\n",
    "TEST_START_DATE,TEST_END_DATE='2023-01-01','2024-04-16'\n",
    "data_dir = '/mnt/finrl/data/csv/DOW_30/'\n",
    "vix_data_dir = '/mnt/finrl/data/csv/^VIX/'\n",
    "dji_dir = '/mnt/finrl/data/csv/DJI/DJI.csv'  # .csv\n",
    "\n",
    "df = stock_trade_data_generate(\n",
    "    data_dir=data_dir,\n",
    "    start_date=TRAIN_START_DATE,\n",
    "    end_date=TEST_END_DATE,\n",
    "    use_technical_indicator=True,\n",
    "    use_turbulence=True,\n",
    "    user_defined_feature=False,\n",
    "    tech_indicator_list=INDICATORS,\n",
    "    use_vix=True,\n",
    "    vix_data_dir=vix_data_dir,\n",
    "    dji_dir=dji_dir,\n",
    ")\n",
    "df_train = data_split(df,TRAIN_START_DATE,TRAIN_END_DATE)\n",
    "df_validation = data_split(df,VALIDATE_START_DATE,VALIDATE_END_DATE)\n",
    "df_test = data_split(df,TEST_START_DATE,TEST_END_DATE)\n",
    "df_train_validation = data_split(df,TRAIN_START_DATE,VALIDATE_END_DATE)"
   ]
  },
  {
   "cell_type": "code",
   "execution_count": 15,
   "metadata": {},
   "outputs": [
    {
     "name": "stdout",
     "output_type": "stream",
     "text": [
      "(8079, 6)\n"
     ]
    }
   ],
   "source": [
    "# 图片涵盖的日期\n",
    "total_plot_time_range = df.date.unique().tolist()\n",
    "# DJIA数据生成图片，获取DJIA数据(尽可能大，防止出现nan)\n",
    "djia = pd.read_csv('/mnt/finrl/data/csv/DJI/DJI.csv')\n",
    "# 日期设为index\n",
    "djia['Date'] = pd.to_datetime(djia['Date'])\n",
    "djia = djia.set_index('Date',drop=True)\n",
    "# djia的每一列设为float\n",
    "def str_float(element):\n",
    "    return float(element.replace(',',''))\n",
    "for column in djia.columns:\n",
    "    djia[column] = djia[column].apply(str_float,1)/100 # 由于djia的价格都比较大，所以进行缩放。缩放到30支股票的平均价格的尺度上去。平均价格为两位数到三位数，所以将djia的价格除100\n",
    "print(djia.shape)"
   ]
  },
  {
   "cell_type": "code",
   "execution_count": 17,
   "metadata": {},
   "outputs": [],
   "source": [
    "# 批量生成\n",
    "for d in tqdm.tqdm(total_plot_time_range):\n",
    "    nowadays = d\n",
    "    row = djia.index.get_loc(nowadays)\n",
    "    data1 = djia.iloc[row-140:row]  # 需要当前时刻t过去140条数据\n",
    "    time_range = data1.index\n",
    "    fig,type_ = figure1_plot(data1)\n",
    "    save_path = f'/mnt/finrl/data/figure/figures_DJIA/figure1/{nowadays}_{type_}.png'\n",
    "    fig.savefig(save_path)\n",
    "    plt.close(fig)"
   ]
  },
  {
   "cell_type": "code",
   "execution_count": 19,
   "metadata": {},
   "outputs": [],
   "source": [
    "# 批量裁剪处理\n",
    "for dir in tqdm.tqdm(os.listdir('/mnt/finrl/data/figure/figures_DJIA/figure1/')):\n",
    "    path = '/mnt/finrl/data/figure/figures_DJIA/figure1/' + dir\n",
    "    type_ = int(dir.split('_')[1][0])\n",
    "    date = dir.split('_')[0]\n",
    "    fig,_ = figure1_preprocess(path,type_)\n",
    "    fig.save(f'/mnt/finrl/data/figure/figures_DJIA/figure1_preprocess/{date}.png')"
   ]
  },
  {
   "cell_type": "code",
   "execution_count": null,
   "metadata": {},
   "outputs": [],
   "source": [
    "djia_with_dmi = calculate_dmi(djia,14)\n",
    "for d in tqdm.tqdm(df.date.unique()):\n",
    "    nowadays = d\n",
    "    row = djia_with_dmi.index.get_loc(nowadays)\n",
    "    data2 = djia_with_dmi.iloc[row:row+20]\n",
    "    fig = figure2_plot(data2)\n",
    "    save_path = f'/mnt/finrl/data/figure/figures_DJIA/figure2/{nowadays}.png'\n",
    "    fig.savefig(save_path)\n",
    "    plt.close(fig)"
   ]
  },
  {
   "cell_type": "code",
   "execution_count": null,
   "metadata": {},
   "outputs": [],
   "source": [
    "for dir in tqdm.tqdm(os.listdir('/mnt/finrl/data/figure/figures_DJIA/figure2')):\n",
    "    path = '/mnt/finrl/data/figure/figures_DJIA/figure2' + dir\n",
    "    date = dir.split('.')[0]\n",
    "    fig,_ = figure2_preprocess(path)\n",
    "    fig.save(f'/mnt/finrl/data/figure/figures_DJIA/figure2_preprocess/{date}.png')"
   ]
  },
  {
   "cell_type": "code",
   "execution_count": null,
   "metadata": {},
   "outputs": [],
   "source": [
    "djia_with_sso = stochastics(djia, 'Low', 'High', 'Close', 14, 3 )\n",
    "for d in tqdm.tqdm(df.date.unique()):\n",
    "    nowadays = d\n",
    "    row = djia_with_sso.index.get_loc(nowadays)\n",
    "    data3 = djia_with_sso.iloc[row:row+20]\n",
    "    fig = figure3_plot(data3)\n",
    "    save_path = f'/mnt/finrl/data/figure/figures_DJIA/figure3/{nowadays}.png'\n",
    "    fig.savefig(save_path)\n",
    "    plt.close(fig)"
   ]
  },
  {
   "cell_type": "code",
   "execution_count": null,
   "metadata": {},
   "outputs": [],
   "source": [
    "for dir in tqdm.tqdm(os.listdir('/mnt/finrl/data/figure/figures_DJIA/figure3')):\n",
    "    path = '/mnt/finrl/data/figure/figures_DJIA/figure3' + dir\n",
    "    date = dir.split('.')[0]\n",
    "    fig,_ = figure3_preprocess(path)\n",
    "    fig.save(f'/mnt/finrl/data/figure/figures_DJIA/figure3_preprocess/{date}.png')"
   ]
  }
 ],
 "metadata": {
  "kernelspec": {
   "display_name": "myconda",
   "language": "python",
   "name": "myconda"
  }
 },
 "nbformat": 4,
 "nbformat_minor": 2
}
